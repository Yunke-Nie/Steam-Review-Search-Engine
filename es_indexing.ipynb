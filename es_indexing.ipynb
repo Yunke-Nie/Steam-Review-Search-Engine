{
 "cells": [
  {
   "cell_type": "code",
   "execution_count": 1,
   "metadata": {},
   "outputs": [],
   "source": [
    "from elasticsearch import Elasticsearch"
   ]
  },
  {
   "cell_type": "code",
   "execution_count": 2,
   "metadata": {},
   "outputs": [],
   "source": [
    "es = Elasticsearch('http://localhost:9200')"
   ]
  },
  {
   "cell_type": "code",
   "execution_count": 3,
   "metadata": {},
   "outputs": [
    {
     "ename": "BadRequestError",
     "evalue": "BadRequestError(400, 'resource_already_exists_exception', 'index [reviews/LAIkQU0eRfCUebwc3g4FtA] already exists')",
     "output_type": "error",
     "traceback": [
      "\u001b[1;31m---------------------------------------------------------------------------\u001b[0m",
      "\u001b[1;31mBadRequestError\u001b[0m                           Traceback (most recent call last)",
      "\u001b[1;32m~\\AppData\\Local\\Temp/ipykernel_27964/3989273937.py\u001b[0m in \u001b[0;36m<module>\u001b[1;34m\u001b[0m\n\u001b[0;32m     19\u001b[0m \u001b[1;33m\u001b[0m\u001b[0m\n\u001b[0;32m     20\u001b[0m \u001b[1;31m# Create the index\u001b[0m\u001b[1;33m\u001b[0m\u001b[1;33m\u001b[0m\u001b[0m\n\u001b[1;32m---> 21\u001b[1;33m \u001b[0mes\u001b[0m\u001b[1;33m.\u001b[0m\u001b[0mindices\u001b[0m\u001b[1;33m.\u001b[0m\u001b[0mcreate\u001b[0m\u001b[1;33m(\u001b[0m\u001b[0mindex\u001b[0m\u001b[1;33m=\u001b[0m\u001b[1;34m\"reviews\"\u001b[0m\u001b[1;33m,\u001b[0m \u001b[0mbody\u001b[0m\u001b[1;33m=\u001b[0m\u001b[0mmapping\u001b[0m\u001b[1;33m)\u001b[0m\u001b[1;33m\u001b[0m\u001b[1;33m\u001b[0m\u001b[0m\n\u001b[0m",
      "\u001b[1;32mc:\\Users\\nieh_\\anaconda3\\lib\\site-packages\\elasticsearch\\_sync\\client\\utils.py\u001b[0m in \u001b[0;36mwrapped\u001b[1;34m(*args, **kwargs)\u001b[0m\n\u001b[0;32m    400\u001b[0m                         \u001b[1;32mpass\u001b[0m\u001b[1;33m\u001b[0m\u001b[1;33m\u001b[0m\u001b[0m\n\u001b[0;32m    401\u001b[0m \u001b[1;33m\u001b[0m\u001b[0m\n\u001b[1;32m--> 402\u001b[1;33m             \u001b[1;32mreturn\u001b[0m \u001b[0mapi\u001b[0m\u001b[1;33m(\u001b[0m\u001b[1;33m*\u001b[0m\u001b[0margs\u001b[0m\u001b[1;33m,\u001b[0m \u001b[1;33m**\u001b[0m\u001b[0mkwargs\u001b[0m\u001b[1;33m)\u001b[0m\u001b[1;33m\u001b[0m\u001b[1;33m\u001b[0m\u001b[0m\n\u001b[0m\u001b[0;32m    403\u001b[0m \u001b[1;33m\u001b[0m\u001b[0m\n\u001b[0;32m    404\u001b[0m         \u001b[1;32mreturn\u001b[0m \u001b[0mwrapped\u001b[0m  \u001b[1;31m# type: ignore[return-value]\u001b[0m\u001b[1;33m\u001b[0m\u001b[1;33m\u001b[0m\u001b[0m\n",
      "\u001b[1;32mc:\\Users\\nieh_\\anaconda3\\lib\\site-packages\\elasticsearch\\_sync\\client\\indices.py\u001b[0m in \u001b[0;36mcreate\u001b[1;34m(self, index, aliases, error_trace, filter_path, human, mappings, master_timeout, pretty, settings, timeout, wait_for_active_shards)\u001b[0m\n\u001b[0;32m    491\u001b[0m         \u001b[1;32mif\u001b[0m \u001b[0m__body\u001b[0m \u001b[1;32mis\u001b[0m \u001b[1;32mnot\u001b[0m \u001b[1;32mNone\u001b[0m\u001b[1;33m:\u001b[0m\u001b[1;33m\u001b[0m\u001b[1;33m\u001b[0m\u001b[0m\n\u001b[0;32m    492\u001b[0m             \u001b[0m__headers\u001b[0m\u001b[1;33m[\u001b[0m\u001b[1;34m\"content-type\"\u001b[0m\u001b[1;33m]\u001b[0m \u001b[1;33m=\u001b[0m \u001b[1;34m\"application/json\"\u001b[0m\u001b[1;33m\u001b[0m\u001b[1;33m\u001b[0m\u001b[0m\n\u001b[1;32m--> 493\u001b[1;33m         return self.perform_request(  # type: ignore[return-value]\n\u001b[0m\u001b[0;32m    494\u001b[0m             \u001b[1;34m\"PUT\"\u001b[0m\u001b[1;33m,\u001b[0m \u001b[0m__path\u001b[0m\u001b[1;33m,\u001b[0m \u001b[0mparams\u001b[0m\u001b[1;33m=\u001b[0m\u001b[0m__query\u001b[0m\u001b[1;33m,\u001b[0m \u001b[0mheaders\u001b[0m\u001b[1;33m=\u001b[0m\u001b[0m__headers\u001b[0m\u001b[1;33m,\u001b[0m \u001b[0mbody\u001b[0m\u001b[1;33m=\u001b[0m\u001b[0m__body\u001b[0m\u001b[1;33m\u001b[0m\u001b[1;33m\u001b[0m\u001b[0m\n\u001b[0;32m    495\u001b[0m         )\n",
      "\u001b[1;32mc:\\Users\\nieh_\\anaconda3\\lib\\site-packages\\elasticsearch\\_sync\\client\\_base.py\u001b[0m in \u001b[0;36mperform_request\u001b[1;34m(self, method, path, params, headers, body)\u001b[0m\n\u001b[0;32m    387\u001b[0m         \u001b[1;31m# Use the internal clients .perform_request() implementation\u001b[0m\u001b[1;33m\u001b[0m\u001b[1;33m\u001b[0m\u001b[0m\n\u001b[0;32m    388\u001b[0m         \u001b[1;31m# so we take advantage of their transport options.\u001b[0m\u001b[1;33m\u001b[0m\u001b[1;33m\u001b[0m\u001b[0m\n\u001b[1;32m--> 389\u001b[1;33m         return self._client.perform_request(\n\u001b[0m\u001b[0;32m    390\u001b[0m             \u001b[0mmethod\u001b[0m\u001b[1;33m,\u001b[0m \u001b[0mpath\u001b[0m\u001b[1;33m,\u001b[0m \u001b[0mparams\u001b[0m\u001b[1;33m=\u001b[0m\u001b[0mparams\u001b[0m\u001b[1;33m,\u001b[0m \u001b[0mheaders\u001b[0m\u001b[1;33m=\u001b[0m\u001b[0mheaders\u001b[0m\u001b[1;33m,\u001b[0m \u001b[0mbody\u001b[0m\u001b[1;33m=\u001b[0m\u001b[0mbody\u001b[0m\u001b[1;33m\u001b[0m\u001b[1;33m\u001b[0m\u001b[0m\n\u001b[0;32m    391\u001b[0m         )\n",
      "\u001b[1;32mc:\\Users\\nieh_\\anaconda3\\lib\\site-packages\\elasticsearch\\_sync\\client\\_base.py\u001b[0m in \u001b[0;36mperform_request\u001b[1;34m(self, method, path, params, headers, body)\u001b[0m\n\u001b[0;32m    318\u001b[0m                     \u001b[1;32mpass\u001b[0m\u001b[1;33m\u001b[0m\u001b[1;33m\u001b[0m\u001b[0m\n\u001b[0;32m    319\u001b[0m \u001b[1;33m\u001b[0m\u001b[0m\n\u001b[1;32m--> 320\u001b[1;33m             raise HTTP_EXCEPTIONS.get(meta.status, ApiError)(\n\u001b[0m\u001b[0;32m    321\u001b[0m                 \u001b[0mmessage\u001b[0m\u001b[1;33m=\u001b[0m\u001b[0mmessage\u001b[0m\u001b[1;33m,\u001b[0m \u001b[0mmeta\u001b[0m\u001b[1;33m=\u001b[0m\u001b[0mmeta\u001b[0m\u001b[1;33m,\u001b[0m \u001b[0mbody\u001b[0m\u001b[1;33m=\u001b[0m\u001b[0mresp_body\u001b[0m\u001b[1;33m\u001b[0m\u001b[1;33m\u001b[0m\u001b[0m\n\u001b[0;32m    322\u001b[0m             )\n",
      "\u001b[1;31mBadRequestError\u001b[0m: BadRequestError(400, 'resource_already_exists_exception', 'index [reviews/LAIkQU0eRfCUebwc3g4FtA] already exists')"
     ]
    }
   ],
   "source": [
    "mapping = {\n",
    "    \"mappings\": {\n",
    "        \"properties\": {\n",
    "            \"date_posted\": {\"type\": \"date\"},\n",
    "            \"funny\": {\"type\": \"integer\"},\n",
    "            \"helpful\": {\"type\": \"integer\"},\n",
    "            \"hour_played\": {\"type\": \"integer\"},\n",
    "            \"is_early_access_review\": {\"type\": \"boolean\"},\n",
    "            \"recommendation\": {\"type\": \"keyword\"},\n",
    "            \"review\": {\"type\": \"text\"},\n",
    "            \"title\": {\"type\": \"text\"},\n",
    "            \"sentiment\": {\"type\": \"keyword\"},\n",
    "            \"Dominant_Topic\": {\"type\": \"integer\"},\n",
    "            \"Perc_Contribution\": {\"type\": \"float\"},\n",
    "            \"Topic_Keywords\": {\"type\": \"text\"}\n",
    "        }\n",
    "    }\n",
    "}\n",
    "\n",
    "# Create the index\n",
    "es.indices.create(index=\"reviews\", body=mapping)"
   ]
  },
  {
   "cell_type": "code",
   "execution_count": 6,
   "metadata": {},
   "outputs": [],
   "source": [
    "import pandas as pd"
   ]
  },
  {
   "cell_type": "code",
   "execution_count": 7,
   "metadata": {},
   "outputs": [
    {
     "data": {
      "text/html": [
       "<div>\n",
       "<style scoped>\n",
       "    .dataframe tbody tr th:only-of-type {\n",
       "        vertical-align: middle;\n",
       "    }\n",
       "\n",
       "    .dataframe tbody tr th {\n",
       "        vertical-align: top;\n",
       "    }\n",
       "\n",
       "    .dataframe thead th {\n",
       "        text-align: right;\n",
       "    }\n",
       "</style>\n",
       "<table border=\"1\" class=\"dataframe\">\n",
       "  <thead>\n",
       "    <tr style=\"text-align: right;\">\n",
       "      <th></th>\n",
       "      <th>date_posted</th>\n",
       "      <th>funny</th>\n",
       "      <th>helpful</th>\n",
       "      <th>hour_played</th>\n",
       "      <th>is_early_access_review</th>\n",
       "      <th>recommendation</th>\n",
       "      <th>review</th>\n",
       "      <th>title</th>\n",
       "      <th>sentiment</th>\n",
       "      <th>Dominant_Topic</th>\n",
       "      <th>Perc_Contribution</th>\n",
       "      <th>Topic_Keywords</th>\n",
       "    </tr>\n",
       "  </thead>\n",
       "  <tbody>\n",
       "    <tr>\n",
       "      <th>0</th>\n",
       "      <td>2019-02-10</td>\n",
       "      <td>2</td>\n",
       "      <td>4</td>\n",
       "      <td>578</td>\n",
       "      <td>False</td>\n",
       "      <td>Recommended</td>\n",
       "      <td>&amp;gt Played as German Reich&amp;gt Declare war on B...</td>\n",
       "      <td>Expansion - Hearts of Iron IV: Man the Guns</td>\n",
       "      <td>Negative</td>\n",
       "      <td>1</td>\n",
       "      <td>0.9439</td>\n",
       "      <td>get, server, like, best, play, people, time, e...</td>\n",
       "    </tr>\n",
       "    <tr>\n",
       "      <th>1</th>\n",
       "      <td>2019-02-10</td>\n",
       "      <td>0</td>\n",
       "      <td>0</td>\n",
       "      <td>184</td>\n",
       "      <td>False</td>\n",
       "      <td>Recommended</td>\n",
       "      <td>yes.</td>\n",
       "      <td>Expansion - Hearts of Iron IV: Man the Guns</td>\n",
       "      <td>Neutral</td>\n",
       "      <td>0</td>\n",
       "      <td>0.6532</td>\n",
       "      <td>like, time, get, fun, play, still, even, playe...</td>\n",
       "    </tr>\n",
       "    <tr>\n",
       "      <th>2</th>\n",
       "      <td>2019-02-07</td>\n",
       "      <td>0</td>\n",
       "      <td>0</td>\n",
       "      <td>892</td>\n",
       "      <td>False</td>\n",
       "      <td>Recommended</td>\n",
       "      <td>Very good game although a bit overpriced in my...</td>\n",
       "      <td>Expansion - Hearts of Iron IV: Man the Guns</td>\n",
       "      <td>Positive</td>\n",
       "      <td>0</td>\n",
       "      <td>0.5229</td>\n",
       "      <td>like, time, get, fun, play, still, even, playe...</td>\n",
       "    </tr>\n",
       "  </tbody>\n",
       "</table>\n",
       "</div>"
      ],
      "text/plain": [
       "  date_posted  funny  helpful  hour_played  is_early_access_review  \\\n",
       "0  2019-02-10      2        4          578                   False   \n",
       "1  2019-02-10      0        0          184                   False   \n",
       "2  2019-02-07      0        0          892                   False   \n",
       "\n",
       "  recommendation                                             review  \\\n",
       "0    Recommended  &gt Played as German Reich&gt Declare war on B...   \n",
       "1    Recommended                                               yes.   \n",
       "2    Recommended  Very good game although a bit overpriced in my...   \n",
       "\n",
       "                                         title sentiment  Dominant_Topic  \\\n",
       "0  Expansion - Hearts of Iron IV: Man the Guns  Negative               1   \n",
       "1  Expansion - Hearts of Iron IV: Man the Guns   Neutral               0   \n",
       "2  Expansion - Hearts of Iron IV: Man the Guns  Positive               0   \n",
       "\n",
       "   Perc_Contribution                                     Topic_Keywords  \n",
       "0             0.9439  get, server, like, best, play, people, time, e...  \n",
       "1             0.6532  like, time, get, fun, play, still, even, playe...  \n",
       "2             0.5229  like, time, get, fun, play, still, even, playe...  "
      ]
     },
     "execution_count": 7,
     "metadata": {},
     "output_type": "execute_result"
    }
   ],
   "source": [
    "df = pd.read_csv('topic.csv')\n",
    "df.head(3)"
   ]
  },
  {
   "cell_type": "markdown",
   "metadata": {},
   "source": []
  },
  {
   "cell_type": "code",
   "execution_count": 15,
   "metadata": {},
   "outputs": [
    {
     "data": {
      "text/plain": [
       "title\n",
       "ACE COMBAT™ 7: SKIES UNKNOWN                         10\n",
       "ARK: Survival Evolved                               195\n",
       "ASTRONEER                                          2661\n",
       "Battlefleet Gothic: Armada 2                         10\n",
       "Beat Saber                                           10\n",
       "Cold Waters                                          10\n",
       "Dead by Daylight                                  22221\n",
       "Divinity: Original Sin 2 - Definitive Edition       190\n",
       "Don't Starve Together                               165\n",
       "Euro Truck Simulator 2                              501\n",
       "Expansion - Hearts of Iron IV: Man the Guns           3\n",
       "Factorio                                            170\n",
       "Farming Simulator 19                                 10\n",
       "Football Manager 2019                                10\n",
       "Foundation                                           10\n",
       "GOD EATER 3                                          10\n",
       "Garry's Mod                                         202\n",
       "Grand Theft Auto V                                99956\n",
       "Human: Fall Flat                                    172\n",
       "Insurgency: Sandstorm                               220\n",
       "Kenshi                                               10\n",
       "Left 4 Dead 2                                       221\n",
       "MONSTER HUNTER: WORLD                             18412\n",
       "Moonlighter                                          10\n",
       "My Time At Portia                                    10\n",
       "NBA 2K19                                             10\n",
       "Overcooked! 2                                        10\n",
       "PLAYERUNKNOWN'S BATTLEGROUNDS                    145685\n",
       "Pathfinder: Kingmaker                                10\n",
       "RESIDENT EVIL 2 / BIOHAZARD RE:2                   1385\n",
       "RimWorld                                            204\n",
       "Rocket League®                                    67907\n",
       "Rust                                              71088\n",
       "Sid Meier's Civilization® VI: Gathering Storm         3\n",
       "Sid Meier’s Civilization® VI                        522\n",
       "Sid Meier’s Civilization® VI: Rise and Fall           3\n",
       "Slay the Spire                                      260\n",
       "Stardew Valley                                      202\n",
       "Subnautica                                          247\n",
       "Subnautica: Below Zero                               10\n",
       "Survivor Pass: Vikendi                                3\n",
       "Tannenberg                                           10\n",
       "Terraria                                            260\n",
       "The Elder Scrolls V: Skyrim Special Edition        1473\n",
       "Tom Clancy's Rainbow Six® Siege                      10\n",
       "Wallpaper Engine                                    170\n",
       "Wargroove                                            10\n",
       "Warhammer 40,000: Mechanicus                         10\n",
       "dtype: int64"
      ]
     },
     "execution_count": 15,
     "metadata": {},
     "output_type": "execute_result"
    }
   ],
   "source": [
    "df.groupby('title').size()"
   ]
  },
  {
   "cell_type": "code",
   "execution_count": 11,
   "metadata": {},
   "outputs": [
    {
     "data": {
      "text/plain": [
       "date_posted               0\n",
       "funny                     0\n",
       "helpful                   0\n",
       "hour_played               0\n",
       "is_early_access_review    0\n",
       "recommendation            0\n",
       "review                    0\n",
       "title                     0\n",
       "sentiment                 0\n",
       "Dominant_Topic            0\n",
       "Perc_Contribution         0\n",
       "Topic_Keywords            0\n",
       "dtype: int64"
      ]
     },
     "execution_count": 11,
     "metadata": {},
     "output_type": "execute_result"
    }
   ],
   "source": [
    "df.fillna(value={\"review\": \"Unknown\", \"sentiment\": \"Unknown\"}, inplace=True)\n",
    "df.isna().sum()"
   ]
  },
  {
   "cell_type": "code",
   "execution_count": 12,
   "metadata": {},
   "outputs": [
    {
     "data": {
      "text/html": [
       "<div>\n",
       "<style scoped>\n",
       "    .dataframe tbody tr th:only-of-type {\n",
       "        vertical-align: middle;\n",
       "    }\n",
       "\n",
       "    .dataframe tbody tr th {\n",
       "        vertical-align: top;\n",
       "    }\n",
       "\n",
       "    .dataframe thead th {\n",
       "        text-align: right;\n",
       "    }\n",
       "</style>\n",
       "<table border=\"1\" class=\"dataframe\">\n",
       "  <thead>\n",
       "    <tr style=\"text-align: right;\">\n",
       "      <th></th>\n",
       "      <th>funny</th>\n",
       "      <th>helpful</th>\n",
       "      <th>hour_played</th>\n",
       "      <th>Dominant_Topic</th>\n",
       "      <th>Perc_Contribution</th>\n",
       "    </tr>\n",
       "  </thead>\n",
       "  <tbody>\n",
       "    <tr>\n",
       "      <th>count</th>\n",
       "      <td>4.348910e+05</td>\n",
       "      <td>434891.000000</td>\n",
       "      <td>434891.000000</td>\n",
       "      <td>434891.000000</td>\n",
       "      <td>434891.000000</td>\n",
       "    </tr>\n",
       "    <tr>\n",
       "      <th>mean</th>\n",
       "      <td>5.333024e+05</td>\n",
       "      <td>1.004114</td>\n",
       "      <td>364.130773</td>\n",
       "      <td>1.125022</td>\n",
       "      <td>0.725398</td>\n",
       "    </tr>\n",
       "    <tr>\n",
       "      <th>std</th>\n",
       "      <td>4.785640e+07</td>\n",
       "      <td>59.462935</td>\n",
       "      <td>545.961198</td>\n",
       "      <td>0.821322</td>\n",
       "      <td>0.161826</td>\n",
       "    </tr>\n",
       "    <tr>\n",
       "      <th>min</th>\n",
       "      <td>0.000000e+00</td>\n",
       "      <td>0.000000</td>\n",
       "      <td>0.000000</td>\n",
       "      <td>0.000000</td>\n",
       "      <td>0.333300</td>\n",
       "    </tr>\n",
       "    <tr>\n",
       "      <th>25%</th>\n",
       "      <td>0.000000e+00</td>\n",
       "      <td>0.000000</td>\n",
       "      <td>62.000000</td>\n",
       "      <td>0.000000</td>\n",
       "      <td>0.623900</td>\n",
       "    </tr>\n",
       "    <tr>\n",
       "      <th>50%</th>\n",
       "      <td>0.000000e+00</td>\n",
       "      <td>0.000000</td>\n",
       "      <td>190.000000</td>\n",
       "      <td>1.000000</td>\n",
       "      <td>0.739400</td>\n",
       "    </tr>\n",
       "    <tr>\n",
       "      <th>75%</th>\n",
       "      <td>0.000000e+00</td>\n",
       "      <td>0.000000</td>\n",
       "      <td>450.000000</td>\n",
       "      <td>2.000000</td>\n",
       "      <td>0.859700</td>\n",
       "    </tr>\n",
       "    <tr>\n",
       "      <th>max</th>\n",
       "      <td>4.294967e+09</td>\n",
       "      <td>28171.000000</td>\n",
       "      <td>31962.000000</td>\n",
       "      <td>2.000000</td>\n",
       "      <td>0.999800</td>\n",
       "    </tr>\n",
       "  </tbody>\n",
       "</table>\n",
       "</div>"
      ],
      "text/plain": [
       "              funny        helpful    hour_played  Dominant_Topic  \\\n",
       "count  4.348910e+05  434891.000000  434891.000000   434891.000000   \n",
       "mean   5.333024e+05       1.004114     364.130773        1.125022   \n",
       "std    4.785640e+07      59.462935     545.961198        0.821322   \n",
       "min    0.000000e+00       0.000000       0.000000        0.000000   \n",
       "25%    0.000000e+00       0.000000      62.000000        0.000000   \n",
       "50%    0.000000e+00       0.000000     190.000000        1.000000   \n",
       "75%    0.000000e+00       0.000000     450.000000        2.000000   \n",
       "max    4.294967e+09   28171.000000   31962.000000        2.000000   \n",
       "\n",
       "       Perc_Contribution  \n",
       "count      434891.000000  \n",
       "mean            0.725398  \n",
       "std             0.161826  \n",
       "min             0.333300  \n",
       "25%             0.623900  \n",
       "50%             0.739400  \n",
       "75%             0.859700  \n",
       "max             0.999800  "
      ]
     },
     "execution_count": 12,
     "metadata": {},
     "output_type": "execute_result"
    }
   ],
   "source": [
    "df.describe()"
   ]
  },
  {
   "cell_type": "code",
   "execution_count": null,
   "metadata": {},
   "outputs": [],
   "source": [
    "from scipy import stats\n",
    "df['funny_z_score'] = stats.zscore(df['funny'])\n",
    "df_filtered = df[df['funny_z_score'].abs() <= 3]  # threshold is typically 2 or 3\n"
   ]
  },
  {
   "cell_type": "code",
   "execution_count": null,
   "metadata": {},
   "outputs": [],
   "source": [
    "# Assuming 'df' is your pandas DataFrame\n",
    "for index, row in df_filtered.iterrows():\n",
    "    # Convert row to JSON (dict)\n",
    "    document = row.to_dict()\n",
    "    if row['funny'] > 2147483647:\n",
    "        row['funny'] = 2147483647\n",
    "    # Index the document\n",
    "    es.index(index=\"reviews\", id=index, document=document)\n"
   ]
  },
  {
   "cell_type": "code",
   "execution_count": null,
   "metadata": {},
   "outputs": [
    {
     "name": "stdout",
     "output_type": "stream",
     "text": [
      "Got 10000 Hits:\n",
      "{'date_posted': '2018-09-29', 'funny': 0, 'helpful': 0, 'hour_played': 1458, 'is_early_access_review': False, 'recommendation': 'Recommended', 'review': \"the best! I've been playing since it came out\", 'title': 'Dead by Daylight', 'sentiment': 'Positive', 'Dominant_Topic': 1, 'Perc_Contribution': 0.7249, 'Topic_Keywords': 'get, server, like, best, play, people, time, ever, one, rust', 'funny_z_score': -0.011143816181542173}\n",
      "{'date_posted': '2018-11-01', 'funny': 1, 'helpful': 1, 'hour_played': 29, 'is_early_access_review': False, 'recommendation': 'Recommended', 'review': \"If you're against Generator abuse and want to support generators I suggest you buy this game and help fixing them!\", 'title': 'Dead by Daylight', 'sentiment': 'Negative', 'Dominant_Topic': 0, 'Perc_Contribution': 0.5488, 'Topic_Keywords': 'like, time, get, fun, play, still, even, player, one, really', 'funny_z_score': -0.011143795285673328}\n",
      "{'date_posted': '2018-04-16', 'funny': 0, 'helpful': 0, 'hour_played': 250, 'is_early_access_review': False, 'recommendation': 'Not Recommended', 'review': 'i would not recommend this.. this game used to be fun but they have fed and pandered so much to the survivors that it went from stealth and teammwork to... crouch in fron t of the a hook so the killer cant hook u got caught dont worry u have a garauntee get off his back got un hooked dont worry again when ur unhooked u cant be downed again... and if u wanna keep up with these rediculous changes you have to pay money to get a better killer..', 'title': 'Dead by Daylight', 'sentiment': 'Positive', 'Dominant_Topic': 1, 'Perc_Contribution': 0.6431, 'Topic_Keywords': 'get, server, like, best, play, people, time, ever, one, rust', 'funny_z_score': -0.011143816181542173}\n",
      "{'date_posted': '2016-06-15', 'funny': 0, 'helpful': 0, 'hour_played': 549, 'is_early_access_review': False, 'recommendation': 'Recommended', 'review': 'Great survival horror with a fun objective. This game really gets your adrenaline flowing. The only draw back for this game is it lacks maps to play.', 'title': 'Dead by Daylight', 'sentiment': 'Positive', 'Dominant_Topic': 0, 'Perc_Contribution': 0.9363, 'Topic_Keywords': 'like, time, get, fun, play, still, even, player, one, really', 'funny_z_score': -0.011143816181542173}\n",
      "{'date_posted': '2018-09-29', 'funny': 0, 'helpful': 0, 'hour_played': 175, 'is_early_access_review': False, 'recommendation': 'Recommended', 'review': 'OH NICE DUUUUUUUUUUUD', 'title': 'Dead by Daylight', 'sentiment': 'Positive', 'Dominant_Topic': 2, 'Perc_Contribution': 0.5882, 'Topic_Keywords': 'good, fun, play, great, online, buy, free, friend, money, really', 'funny_z_score': -0.011143816181542173}\n",
      "{'date_posted': '2018-09-29', 'funny': 0, 'helpful': 0, 'hour_played': 12, 'is_early_access_review': False, 'recommendation': 'Recommended', 'review': 'good', 'title': 'Dead by Daylight', 'sentiment': 'Positive', 'Dominant_Topic': 2, 'Perc_Contribution': 0.6562, 'Topic_Keywords': 'good, fun, play, great, online, buy, free, friend, money, really', 'funny_z_score': -0.011143816181542173}\n",
      "{'date_posted': '2017-06-19', 'funny': 0, 'helpful': 0, 'hour_played': 61, 'is_early_access_review': False, 'recommendation': 'Recommended', 'review': \"Very fun game I gifted the game to my friends and now we play it together.This game consists about a player being the killer there are different killers and each of them have different abilities survivors have to fix the required amount of generators and find the escape or secret exit.Killers must find all the survivors and hang them until they die.Features You get to choose if you want to be killer or survivor which is an option I really like.You can customize your characters buy DLC's to have more things to wear on your characters and in some DLC's you will also get new characters such as killers or survivors.Character perks add ons and offerings You get to add items or power ups to your character + offerings that if you win grants you boosts.There is an option to make a private game called ''Kill your friends'' where you have to play as the killer against your friends that play as survivor you get to choose any perk add on and offerings for your character and you can also choose the map for your custom/private game.DLC'S As I mentioned before there are DLC's these DLC's give you either accesories or killers &amp survivors.CAMPERS Yes there are many campers in this game that will stay right next to you until you die so another player doesn't rescue you however you can counter it by pulling off a distraction.BUGS From what I've seen so far there are around 2 bugs that don't affect your gameplay.This game is worth it but if you don't believe me try watching a gameplay like I did before!10/10 I never get tired of playing it!\", 'title': 'Dead by Daylight', 'sentiment': 'Positive', 'Dominant_Topic': 0, 'Perc_Contribution': 0.9105, 'Topic_Keywords': 'like, time, get, fun, play, still, even, player, one, really', 'funny_z_score': -0.011143816181542173}\n",
      "{'date_posted': '2018-10-27', 'funny': 0, 'helpful': 0, 'hour_played': 8, 'is_early_access_review': False, 'recommendation': 'Recommended', 'review': 'fun game', 'title': 'Dead by Daylight', 'sentiment': 'Negative', 'Dominant_Topic': 2, 'Perc_Contribution': 0.6493, 'Topic_Keywords': 'good, fun, play, great, online, buy, free, friend, money, really', 'funny_z_score': -0.011143816181542173}\n",
      "{'date_posted': '2018-11-25', 'funny': 1, 'helpful': 1, 'hour_played': 263, 'is_early_access_review': False, 'recommendation': 'Recommended', 'review': 'Its okay.', 'title': 'Dead by Daylight', 'sentiment': 'Positive', 'Dominant_Topic': 1, 'Perc_Contribution': 0.6355, 'Topic_Keywords': 'get, server, like, best, play, people, time, ever, one, rust', 'funny_z_score': -0.011143795285673328}\n",
      "{'date_posted': '2018-03-29', 'funny': 0, 'helpful': 0, 'hour_played': 104, 'is_early_access_review': False, 'recommendation': 'Recommended', 'review': 'Hey everyone and this is my review about the game!This is a Multiplayer horror action game.Interface/Menu/SettingsVideo Settings information. You are able to play on Low Quality Graphical settings. There is a resolution slidebar available. 0% 100% You are able to play this game on Fullscreen or windowed mode.Volume Settings Information. There is a main volume slidebar available. 0% 100% There is a Menu volume slidebar available. 0% 100% Headphones are recommended.Miscellaneous Information. There are alot of different languages available. You are able to play the game with a controller There is a mouse and controller sensitivity slidebar available. 0% 100% For Killer and survivor (both seperated). You are able to change the controls on the keyboard and controller. There is a manual Tutorial/help/tips available.About the game.You can choose between a Survivor or a killer. You are able to have 4 survivors in a match and 1 killer. Each side has an objective. The killer has to kill all 4 survivors in order to win while the survivors has to escape from the map. Survivors are using third person camera and killers are using a first person camera. Each survivor or a killer has their own level and perk system. So if you have unlocked an offering the offering can only be used in a match if you play that certain character.Survivors are able to use items and increase the effect of the item by adding add ons while the killer has a default power ability which can be improved by adding add ons. Offerings could be used to change the match or by gaining more points. The game is Trial and error and WILL BE DIFFICULT IN THE BEGINNING.While the game is pretty dark by itself you are able to increase the brightness by darkening your own room or increase the brightness on your computer monitor. This may have a little impact or no impact at all but if you are close to a window or the sun has the potential to shine into your room. You could be put in a disadvantage as you will have a hard time looking at the screen or able to see things properly. Killer needs to kill the 4 survivors in order to win. There are alot of different killers each with their own unique gameplay and perks. Some killers are able to go invisible or even stealth while other killers are using deadly tools to get their victims. The killer has a first person camera perspective which means he can\\'t use their camera to look around the walls for victims. Killers are able to see ALL Generators and exit gates throughout the match which could help you locating survivors.You will have to hunt down the survivors and they could reveal themself on the map if they are failing a skillcheck helping a survivor off the hook or destroying a hex totem. Chasing a survivor will start the \"Chase music\" until the victim is down or escaped. An injured or a running survivor will leave a trail of red marks around the location which you need to track down in order to kill them. A killer is able to hear nearby \"grunting/moaning\" sound when a survivor is injured. The killer is able to kick generators to slow and decrease the generator progress or destroying thrown pallets by kicking them. Killers are generally faster than a survivor and the killer\\'s movement speed will increase the longer the chase goes as they have \"Bloodlust\". Survivor needs to escape from the map by completing generators to power up the exit gate or they are able to find a hatch. There are alot of different survivors each with their own gameplay and perks. Some are good for co op actions while others are quickly. Survivors have a third person camera which will allow them to see around the walls and keep the killer at a distance. You will have to find generators to power up the exit gates to make your escape.Generators are randomly spawned on the map and could be located by looking up as you will see sparky flashlights. From time to time you will receive a skillcheck which you will need to success in order to prevent the generator blowing up and able to reveal your location on the game. Blowing up generators will lose some of your progess and could put you into danger as well. By reparing enough generators the exit gates will be powered up and you COULD leave the area after opening the gates. You could also find a hatch which will allow you to escape but the killer is able to grab you out of the hatch if he is quick enough.There are 2 hitchecks on a skillcheck The thick white bar and a smaller bar. Before the skillcheck will pop up you will hear a \"ping\" sound. Hitting the Bigger white bar will gain you more experience and you will gain 2% more progress but you are better off focusing on the smaller bar as it will be alot easier to hit. Most actions ingame require a skillcheck and missing a skillcheck will reveal your location to the killer. You are able to find items in crates such a medkit or a toolbox. Items has a quality level and make them more powerful the higher it is. Items are usually an one time thing as you will lose them if you have died or they run out of charges. You are able to to carry an item to the next match if you have escaped.The survivor is able to jump over windows throw down pallets or hide in lockers. Lockers are not a good hiding location and you will be instantly grabbed by the killer if spotted. You are better off crouching and hiding behind obstactles. A common mistake what people are doing is Running. If they see a killer and it is close to a survivor they have a tendency to run which will be a big mistake as this will reveal your location to the killer alot easier. You should only start running when you are being chased or you know for sure the killer isn\\'t close to you.Ingame Information. Moderate replayability. Good Atmosphere. Dark graphical horror atmosphere. Has Perks and level systems. Each survivor/killer has their own system. Dialy randoms quests to gain an insane ammount of experience.Miscellaneous Information. Dwight and Nea are both good beginning characters. Worst enemies could be your allies while the killer could be your friend. Pallets are buggy Don\\'t throw the pallet if you are facing it. It could teleport you to the other side and screw you over.Other things.The game isn\\'t that fun as it may seem. Why? If you are playing as a killer you will fight against a bunch of \"high\" skilled trolls and they are usally pre made as well. They are mostly pallet/window jumping flashlighting and shamefully t bagging.If you are playing as a survivor you will play against a killer that may be alot better than you are. Sometimes teammates are disconnecting in a middle of the match which will leave you in a disadvantage they also have the tendecies to really screw you over. Sometimes even on purpose.Survivors are generally alot more toxic salty trolly and generally have a negative attitude than a killer will ever get in this game. Killers mostly relies on mistakes from the survivors and sometimes are more friendlier than a survivor.I will only suggest to buy this game whenever it is in a discount. Otherwise i would suggest to stay away from it. The idea of the game is nice Community however isn\\'t and can be really frustating or game ruining.I have reached the text review limit. T T \\'( Reviews are always uploaded if i have at least played for 2 hours or more. Unless the game is really garbage and doesn\\'t deserve the 2H limit.I Give this game a 7/10', 'title': 'Dead by Daylight', 'sentiment': 'Positive', 'Dominant_Topic': 0, 'Perc_Contribution': 0.9986, 'Topic_Keywords': 'like, time, get, fun, play, still, even, player, one, really', 'funny_z_score': -0.011143816181542173}\n"
     ]
    }
   ],
   "source": [
    "query = {\n",
    "    \"query\": {\n",
    "        \"match_all\": {}  # This is a simple query that matches all documents\n",
    "    }\n",
    "}\n",
    "\n",
    "# Execute the search query against a specific index\n",
    "response = es.search(index=\"reviews\", body=query)\n",
    "\n",
    "# Print the response\n",
    "print(\"Got %d Hits:\" % response['hits']['total']['value'])\n",
    "for hit in response['hits']['hits']:\n",
    "    print(hit[\"_source\"])"
   ]
  }
 ],
 "metadata": {
  "kernelspec": {
   "display_name": "base",
   "language": "python",
   "name": "python3"
  },
  "language_info": {
   "codemirror_mode": {
    "name": "ipython",
    "version": 3
   },
   "file_extension": ".py",
   "mimetype": "text/x-python",
   "name": "python",
   "nbconvert_exporter": "python",
   "pygments_lexer": "ipython3",
   "version": "3.9.7"
  }
 },
 "nbformat": 4,
 "nbformat_minor": 2
}
